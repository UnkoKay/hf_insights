{
 "cells": [
  {
   "cell_type": "markdown",
   "metadata": {},
   "source": [
    "### Import Packages"
   ]
  },
  {
   "cell_type": "code",
   "execution_count": 2,
   "metadata": {},
   "outputs": [],
   "source": [
    "# Ensure to install the following packages:\n",
    "# pandas, geopandas, matplotlib\n",
    "\n",
    "#Importing the required libraries\n",
    "import pandas as pd\n",
    "import geopandas as gpd\n",
    "import matplotlib.pyplot as plt"
   ]
  },
  {
   "cell_type": "markdown",
   "metadata": {},
   "source": [
    "### Load Datasets"
   ]
  },
  {
   "cell_type": "code",
   "execution_count": null,
   "metadata": {},
   "outputs": [],
   "source": [
    "# Replace 'health_facilities.csv' with the path to your dataset\n",
    "health_facilities_df = pd.read_csv('health_facilities.csv')\n",
    "# Assuming 'latitude' and 'longitude' columns exist\n",
    "gdf_health_facilities = gpd.GeoDataFrame(\n",
    "    health_facilities_df, \n",
    "    geometry=gpd.points_from_xy(health_facilities_df.longitude, health_facilities_df.latitude),\n",
    "    crs=\"EPSG:4326\"  # Make sure to use the correct coordinate reference system (CRS)\n",
    ")\n"
   ]
  }
 ],
 "metadata": {
  "kernelspec": {
   "display_name": "Python 3",
   "language": "python",
   "name": "python3"
  },
  "language_info": {
   "codemirror_mode": {
    "name": "ipython",
    "version": 3
   },
   "file_extension": ".py",
   "mimetype": "text/x-python",
   "name": "python",
   "nbconvert_exporter": "python",
   "pygments_lexer": "ipython3",
   "version": "3.11.2"
  }
 },
 "nbformat": 4,
 "nbformat_minor": 2
}
